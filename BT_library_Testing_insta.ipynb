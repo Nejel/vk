{
 "cells": [
  {
   "cell_type": "code",
   "execution_count": 1,
   "id": "welcome-floor",
   "metadata": {},
   "outputs": [],
   "source": [
    "# !pip3 install --upgrade pandas\n",
    "# !pip3 install --upgrade numpy\n",
    "# !pip3 install --upgrade httplib2\n",
    "# !pip3 install --upgrade instabot\n",
    "# !pip3 install --upgrade google-api-python-client\n",
    "# !pip3 install --upgrade vk-api\n",
    "\n",
    "# TODO: add insta auth in a normal way\n",
    "\n",
    "import json\n",
    "from datetime import datetime, timedelta\n",
    "import shutil\n",
    "\n",
    "import pandas as pd\n",
    "import numpy as np\n",
    "\n",
    "from instabot import Bot\n",
    "\n",
    "from BT_library import GoogleSheets, DF_works, Vkontakte, Insta\n",
    "\n",
    "from secrets import INST_USERNAME, INST_PASSWORD, sobaka_spreadsheet_id, delta"
   ]
  },
  {
   "cell_type": "code",
   "execution_count": 2,
   "id": "prepared-bonus",
   "metadata": {},
   "outputs": [],
   "source": [
    "shutil.rmtree('config', ignore_errors=True)"
   ]
  },
  {
   "cell_type": "code",
   "execution_count": 3,
   "id": "rational-rates",
   "metadata": {},
   "outputs": [],
   "source": [
    "CREDSTOSERVICE = 'credentials.json'\n",
    "range_name_insta = 'Insta!A3:H'\n",
    "range_to_put_LU = \"Insta!E1:G1\""
   ]
  },
  {
   "cell_type": "code",
   "execution_count": 4,
   "id": "personalized-terrace",
   "metadata": {},
   "outputs": [
    {
     "name": "stderr",
     "output_type": "stream",
     "text": [
      "2021-06-24 09:58:45,927 - INFO - Instabot version: 0.117.0 Started\n"
     ]
    }
   ],
   "source": [
    "d = DF_works()\n",
    "bot = Bot()\n",
    "ins = Insta()\n",
    "g = GoogleSheets()"
   ]
  },
  {
   "cell_type": "code",
   "execution_count": 5,
   "id": "chicken-tractor",
   "metadata": {},
   "outputs": [],
   "source": [
    "service = g.auth(CREDSTOSERVICE)"
   ]
  },
  {
   "cell_type": "code",
   "execution_count": 6,
   "id": "sharing-history",
   "metadata": {},
   "outputs": [
    {
     "name": "stderr",
     "output_type": "stream",
     "text": [
      "2021-06-24 09:58:45,953 - INFO - Not yet logged in starting: PRE-LOGIN FLOW!\n",
      "2021-06-24 09:58:48,810 - INFO - Logged-in successfully as 'alexander1337n'!\n",
      "2021-06-24 09:58:48,812 - INFO - LOGIN FLOW! Just logged-in: True\n"
     ]
    }
   ],
   "source": [
    "bot.login(username = INST_USERNAME,  password = INST_PASSWORD)\n",
    "# # IN CASE OF LOGIN TROUBLES \"ds_user\" -- DELETE 'config' FOLDER NEARBY\n",
    "\n",
    "user_id = bot.get_user_id_from_username(\"sobaka_ru\")\n",
    "\n",
    "user_media_list = bot.get_user_medias(user_id, \n",
    "                                      filtration=False, \n",
    "                                      is_comment=False) # list of followers\n",
    "\n",
    "insta_values = ins.inst_get_posts(user_media_list, bot)\n",
    "\n",
    "posts_from_sheets = g.get_values_as_df(service, \n",
    "                                       range_name_insta, \n",
    "                                       sobaka_spreadsheet_id)\n",
    "\n",
    "\n",
    "df1 = d.inst_merge_dfs_max_likes(posts_from_sheets, insta_values)\n",
    "\n",
    "\n",
    "df2 = d.inst_merge_dfs_text_cols(posts_from_sheets, insta_values)\n",
    "\n",
    "result = d.inst_final_merge(df1, df2)\n",
    "\n",
    "result.Date = result.Date.astype(str) # ?\n",
    "result = result.values.tolist()\n",
    "\n",
    "g.put_values(service, range_name_insta, sobaka_spreadsheet_id, result)\n",
    "\n",
    "g.put_last_updated(service, \n",
    "                   range_to_put_LU, \n",
    "                   sobaka_spreadsheet_id, \n",
    "                   delta)"
   ]
  },
  {
   "cell_type": "code",
   "execution_count": 12,
   "id": "willing-center",
   "metadata": {},
   "outputs": [],
   "source": [
    "shutil.rmtree('config', ignore_errors=True)"
   ]
  }
 ],
 "metadata": {
  "kernelspec": {
   "display_name": "Python 3",
   "language": "python",
   "name": "python3"
  },
  "language_info": {
   "codemirror_mode": {
    "name": "ipython",
    "version": 3
   },
   "file_extension": ".py",
   "mimetype": "text/x-python",
   "name": "python",
   "nbconvert_exporter": "python",
   "pygments_lexer": "ipython3",
   "version": "3.8.5"
  }
 },
 "nbformat": 4,
 "nbformat_minor": 5
}
