{
 "cells": [
  {
   "cell_type": "code",
   "execution_count": 1,
   "id": "welcome-floor",
   "metadata": {},
   "outputs": [],
   "source": [
    "# !pip3 install --upgrade pandas\n",
    "# !pip3 install --upgrade numpy\n",
    "# !pip3 install --upgrade httplib2\n",
    "# !pip3 install --upgrade instabot\n",
    "# !pip3 install --upgrade google-api-python-client\n",
    "# !pip3 install --upgrade vk-api\n",
    "\n",
    "# TODO: add insta auth in a normal way\n",
    "\n",
    "import json\n",
    "from datetime import datetime, timedelta\n",
    "import shutil\n",
    "\n",
    "import pandas as pd\n",
    "import numpy as np\n",
    "\n",
    "from instabot import Bot\n",
    "\n",
    "from BT_library import GoogleSheets, DF_works, Vkontakte, Insta\n",
    "\n",
    "from secrets import INST_USERNAME, INST_PASSWORD, sobaka_spreadsheet_id"
   ]
  },
  {
   "cell_type": "code",
   "execution_count": 2,
   "id": "prepared-bonus",
   "metadata": {},
   "outputs": [],
   "source": [
    "shutil.rmtree('config', ignore_errors=True)"
   ]
  },
  {
   "cell_type": "code",
   "execution_count": 3,
   "id": "rational-rates",
   "metadata": {},
   "outputs": [],
   "source": [
    "CREDSTOSERVICE = 'credentials.json'\n",
    "range_name_insta = 'Insta!A3:H'"
   ]
  },
  {
   "cell_type": "code",
   "execution_count": 4,
   "id": "personalized-terrace",
   "metadata": {},
   "outputs": [
    {
     "name": "stderr",
     "output_type": "stream",
     "text": [
      "2021-06-14 18:34:45,193 - INFO - Instabot version: 0.117.0 Started\n"
     ]
    }
   ],
   "source": [
    "d = DF_works()\n",
    "bot = Bot()\n",
    "ins = Insta()\n",
    "g = GoogleSheets()"
   ]
  },
  {
   "cell_type": "code",
   "execution_count": 5,
   "id": "chicken-tractor",
   "metadata": {},
   "outputs": [],
   "source": [
    "service = g.auth(CREDSTOSERVICE)"
   ]
  },
  {
   "cell_type": "code",
   "execution_count": 6,
   "id": "suspected-sellers",
   "metadata": {},
   "outputs": [
    {
     "name": "stderr",
     "output_type": "stream",
     "text": [
      "2021-06-14 18:34:45,221 - INFO - Not yet logged in starting: PRE-LOGIN FLOW!\n",
      "2021-06-14 18:34:48,016 - INFO - Logged-in successfully as 'alexander1337n'!\n",
      "2021-06-14 18:34:48,017 - INFO - LOGIN FLOW! Just logged-in: True\n",
      "C:\\Users\\User\\Desktop\\Projects\\BT_vk\\vk\\BT_library.py:367: SettingWithCopyWarning: \n",
      "A value is trying to be set on a copy of a slice from a DataFrame.\n",
      "Try using .loc[row_indexer,col_indexer] = value instead\n",
      "\n",
      "See the caveats in the documentation: https://pandas.pydata.org/pandas-docs/stable/user_guide/indexing.html#returning-a-view-versus-a-copy\n",
      "  df1['Count_of_comments'] = df1['Count_of_comments'].astype('int32').fillna(0)\n",
      "C:\\Users\\User\\Desktop\\Projects\\BT_vk\\vk\\BT_library.py:368: SettingWithCopyWarning: \n",
      "A value is trying to be set on a copy of a slice from a DataFrame.\n",
      "Try using .loc[row_indexer,col_indexer] = value instead\n",
      "\n",
      "See the caveats in the documentation: https://pandas.pydata.org/pandas-docs/stable/user_guide/indexing.html#returning-a-view-versus-a-copy\n",
      "  df1['Likes'] = df1['Likes'].astype('int32').fillna(0)\n",
      "C:\\Users\\User\\Desktop\\Projects\\BT_vk\\vk\\BT_library.py:372: SettingWithCopyWarning: \n",
      "A value is trying to be set on a copy of a slice from a DataFrame.\n",
      "Try using .loc[row_indexer,col_indexer] = value instead\n",
      "\n",
      "See the caveats in the documentation: https://pandas.pydata.org/pandas-docs/stable/user_guide/indexing.html#returning-a-view-versus-a-copy\n",
      "  df2['Count_of_comments'] = df2['Count_of_comments'].astype('int32').fillna(0)\n",
      "C:\\Users\\User\\Desktop\\Projects\\BT_vk\\vk\\BT_library.py:373: SettingWithCopyWarning: \n",
      "A value is trying to be set on a copy of a slice from a DataFrame.\n",
      "Try using .loc[row_indexer,col_indexer] = value instead\n",
      "\n",
      "See the caveats in the documentation: https://pandas.pydata.org/pandas-docs/stable/user_guide/indexing.html#returning-a-view-versus-a-copy\n",
      "  df2['Likes'] = df2['Likes'].astype('int32').fillna(0)\n"
     ]
    },
    {
     "name": "stdout",
     "output_type": "stream",
     "text": [
      "Wall time: 24.7 s\n"
     ]
    }
   ],
   "source": [
    "bot.login(username = INST_USERNAME,  password = INST_PASSWORD)\n",
    "# # IN CASE OF LOGIN TROUBLES \"ds_user\" -- DELETE 'config' FOLDER NEARBY\n",
    "\n",
    "user_id = bot.get_user_id_from_username(\"sobaka_ru\")\n",
    "\n",
    "user_media_list = bot.get_user_medias(user_id, \n",
    "                                      filtration=False, \n",
    "                                      is_comment=False) # list of followers\n",
    "\n",
    "insta_values = ins.inst_get_posts(user_media_list, bot)\n",
    "\n",
    "posts_from_sheets = g.get_values_as_df(service, \n",
    "                                       range_name_insta, \n",
    "                                       sobaka_spreadsheet_id)\n",
    "\n",
    "df1 = d.inst_merge_dfs_max_likes(posts_from_sheets, insta_values)\n",
    "df2 = d.inst_merge_dfs_text_cols(posts_from_sheets, insta_values)\n",
    "\n",
    "result = d.inst_final_merge(df1, df2)\n",
    "\n",
    "result.Date = result.Date.astype(str) # ?\n",
    "result = result.values.tolist()\n",
    "\n",
    "g.put_values(service, range_name_insta, sobaka_spreadsheet_id, result)"
   ]
  },
  {
   "cell_type": "code",
   "execution_count": 7,
   "id": "needed-links",
   "metadata": {},
   "outputs": [],
   "source": [
    "shutil.rmtree('config', ignore_errors=True)"
   ]
  }
 ],
 "metadata": {
  "kernelspec": {
   "display_name": "Python 3",
   "language": "python",
   "name": "python3"
  },
  "language_info": {
   "codemirror_mode": {
    "name": "ipython",
    "version": 3
   },
   "file_extension": ".py",
   "mimetype": "text/x-python",
   "name": "python",
   "nbconvert_exporter": "python",
   "pygments_lexer": "ipython3",
   "version": "3.8.5"
  }
 },
 "nbformat": 4,
 "nbformat_minor": 5
}
