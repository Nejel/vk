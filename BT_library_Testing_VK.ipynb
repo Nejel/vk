{
 "cells": [
  {
   "cell_type": "code",
   "execution_count": 2,
   "id": "welcome-floor",
   "metadata": {},
   "outputs": [],
   "source": [
    "# !pip3 install --upgrade pandas\n",
    "# !pip3 install --upgrade numpy\n",
    "# !pip3 install --upgrade httplib2\n",
    "# !pip3 install --upgrade instabot\n",
    "# !pip3 install --upgrade google-api-python-client\n",
    "# !pip3 install --upgrade vk-api\n",
    "\n",
    "import json\n",
    "from datetime import datetime, timedelta\n",
    "import shutil\n",
    "import pandas as pd\n",
    "import numpy as np\n",
    "import vk_api\n",
    "\n",
    "from BT_library import GoogleSheets, DF_works, Vkontakte, Insta\n",
    "\n",
    "from secrets import login, password, sobaka_spreadsheet_id, delta"
   ]
  },
  {
   "cell_type": "code",
   "execution_count": 2,
   "id": "olive-balance",
   "metadata": {},
   "outputs": [],
   "source": [
    "range_name_vk_take_from_sheets = \"Sheet1!A3:H\"\n",
    "range_to_put_vk_data = \"Sheet1!A3:P\"\n",
    "range_to_put_LU = \"Sheet1!E1:G1\"\n",
    "\n",
    "CREDSTOSERVICE = 'credentials.json'\n",
    "\n",
    "sobakaru_vk_id = '-15911874'\n",
    "active_scan = sobakaru_vk_id\n",
    "count_of_executes = 1 # 12 is probably enough for 2 weeks of posting"
   ]
  },
  {
   "cell_type": "code",
   "execution_count": 6,
   "id": "julian-politics",
   "metadata": {},
   "outputs": [],
   "source": [
    "vk = Vkontakte()\n",
    "g = GoogleSheets() # r\n",
    "d = DF_works()     # s"
   ]
  },
  {
   "cell_type": "code",
   "execution_count": 13,
   "id": "organic-armor",
   "metadata": {},
   "outputs": [],
   "source": [
    "vk_session = vk.get_session(login, password)\n",
    "\n",
    "wall, tools = vk.get_wall(vk_session, \n",
    "                          count_of_executes, active_scan)\n",
    "\n",
    "parsed, postids = vk.parse_wall(vk, wall, delta)\n",
    "\n",
    "morefeatures = vk.supply_post_with_more_data(vk_session, \n",
    "                                             postids, \n",
    "                                             active_scan)\n",
    "\n",
    "service = g.auth(CREDSTOSERVICE)\n",
    "\n",
    "posts_from_sheets = g.get_values(service, \n",
    "                                 range_name_vk_take_from_sheets, \n",
    "                                 sobaka_spreadsheet_id)\n",
    "\n",
    "result = d.vk_compare(posts_from_sheets, parsed, morefeatures)\n",
    "\n",
    "g.put_values(service, \n",
    "             range_to_put_vk_data, \n",
    "             sobaka_spreadsheet_id, \n",
    "             result)\n",
    "\n",
    "g.put_last_updated(service, \n",
    "                   range_to_put_LU, \n",
    "                   sobaka_spreadsheet_id, \n",
    "                   delta)"
   ]
  }
 ],
 "metadata": {
  "kernelspec": {
   "display_name": "Python 3",
   "language": "python",
   "name": "python3"
  },
  "language_info": {
   "codemirror_mode": {
    "name": "ipython",
    "version": 3
   },
   "file_extension": ".py",
   "mimetype": "text/x-python",
   "name": "python",
   "nbconvert_exporter": "python",
   "pygments_lexer": "ipython3",
   "version": "3.8.5"
  }
 },
 "nbformat": 4,
 "nbformat_minor": 5
}
